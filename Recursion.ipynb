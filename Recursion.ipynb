{
 "cells": [
  {
   "cell_type": "code",
   "execution_count": 1,
   "id": "9b3ff4be",
   "metadata": {},
   "outputs": [],
   "source": [
    "#Factorial using recursion"
   ]
  },
  {
   "cell_type": "code",
   "execution_count": 24,
   "id": "bde99115",
   "metadata": {},
   "outputs": [],
   "source": [
    "number = 10 #lets say we gotta find the factorial of 10"
   ]
  },
  {
   "cell_type": "code",
   "execution_count": 25,
   "id": "e7a8a928",
   "metadata": {},
   "outputs": [],
   "source": [
    "def factorial(number):\n",
    "    if number == 0:\n",
    "        return 1\n",
    "    else:\n",
    "        return number * factorial(number-1) # calling out the function recursively"
   ]
  },
  {
   "cell_type": "code",
   "execution_count": 26,
   "id": "108e3d52",
   "metadata": {},
   "outputs": [
    {
     "data": {
      "text/plain": [
       "3628800"
      ]
     },
     "execution_count": 26,
     "metadata": {},
     "output_type": "execute_result"
    }
   ],
   "source": [
    "factorial(number)"
   ]
  },
  {
   "cell_type": "raw",
   "id": "12139441",
   "metadata": {},
   "source": [
    "Write a function that reverses a string. The input string is given as an array of characters s.\n",
    "\n",
    "You must do this by modifying the input array in-place with O(1) extra memory.\n",
    "Example 1:\n",
    "\n",
    "Input: string = [\"h\",\"e\",\"l\",\"l\",\"o\"]\n",
    "Output: [\"o\",\"l\",\"l\",\"e\",\"h\"]\n",
    "    \n",
    "Example 2:\n",
    "\n",
    "Input: s = [\"H\",\"a\",\"n\",\"n\",\"a\",\"h\"]\n",
    "Output: [\"h\",\"a\",\"n\",\"n\",\"a\",\"H\"]"
   ]
  },
  {
   "cell_type": "code",
   "execution_count": 5,
   "id": "bf895582",
   "metadata": {},
   "outputs": [],
   "source": [
    "string = [\"h\",\"e\",\"l\",\"l\",\"o\"]"
   ]
  },
  {
   "cell_type": "code",
   "execution_count": 6,
   "id": "2ebb53ef",
   "metadata": {},
   "outputs": [],
   "source": [
    "start = 0\n",
    "temp = 0\n",
    "end = len(string)-1\n",
    "def Reverse(string,start,end,temp):\n",
    "    \n",
    "    if start >= end:\n",
    "        #print(string[start],string[end])\n",
    "        return string\n",
    "    string[start],string[end] = string[end],string[start]\n",
    "    \n",
    "    return Reverse(string,start+1,end-1,temp)"
   ]
  },
  {
   "cell_type": "code",
   "execution_count": null,
   "id": "2f530628",
   "metadata": {},
   "outputs": [],
   "source": []
  },
  {
   "cell_type": "code",
   "execution_count": null,
   "id": "21a063a5",
   "metadata": {},
   "outputs": [],
   "source": []
  }
 ],
 "metadata": {
  "kernelspec": {
   "display_name": "Python 3 (ipykernel)",
   "language": "python",
   "name": "python3"
  },
  "language_info": {
   "codemirror_mode": {
    "name": "ipython",
    "version": 3
   },
   "file_extension": ".py",
   "mimetype": "text/x-python",
   "name": "python",
   "nbconvert_exporter": "python",
   "pygments_lexer": "ipython3",
   "version": "3.11.5"
  }
 },
 "nbformat": 4,
 "nbformat_minor": 5
}
