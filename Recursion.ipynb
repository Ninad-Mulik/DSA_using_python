{
 "cells": [
  {
   "cell_type": "code",
   "execution_count": 1,
   "id": "9b3ff4be",
   "metadata": {},
   "outputs": [],
   "source": [
    "#Factorial using recursion"
   ]
  },
  {
   "cell_type": "code",
   "execution_count": 24,
   "id": "bde99115",
   "metadata": {},
   "outputs": [],
   "source": [
    "number = 10 #lets say we gotta find the factorial of 10"
   ]
  },
  {
   "cell_type": "code",
   "execution_count": 25,
   "id": "e7a8a928",
   "metadata": {},
   "outputs": [],
   "source": [
    "def factorial(number):\n",
    "    if number == 0:\n",
    "        return 1\n",
    "    else:\n",
    "        return number * factorial(number-1) # calling out the function recursively"
   ]
  },
  {
   "cell_type": "code",
   "execution_count": 26,
   "id": "108e3d52",
   "metadata": {},
   "outputs": [
    {
     "data": {
      "text/plain": [
       "3628800"
      ]
     },
     "execution_count": 26,
     "metadata": {},
     "output_type": "execute_result"
    }
   ],
   "source": [
    "factorial(number)"
   ]
  },
  {
   "cell_type": "raw",
   "id": "a2684650",
   "metadata": {},
   "source": [
    "Given an array of integers, print a sum triangle from it such that the first level has all array elements. From then, at each level number of elements is one less than the previous level and elements at the level is be the Sum of consecutive two elements in the previous level. \n",
    "Example :\n",
    " \n",
    "\n",
    "Input : A = {1, 2, 3, 4, 5}\n",
    "Output : [48]\n",
    "         [20, 28] \n",
    "         [8, 12, 16] \n",
    "         [3, 5, 7, 9] \n",
    "         [1, 2, 3, 4, 5] "
   ]
  },
  {
   "cell_type": "code",
   "execution_count": 27,
   "id": "2f530628",
   "metadata": {},
   "outputs": [],
   "source": [
    "A = [1, 2, 3, 4, 5]"
   ]
  },
  {
   "cell_type": "code",
   "execution_count": null,
   "id": "21a063a5",
   "metadata": {},
   "outputs": [],
   "source": [
    "def Sum_Trianlge(A):\n",
    "    \n",
    "    "
   ]
  }
 ],
 "metadata": {
  "kernelspec": {
   "display_name": "Python 3 (ipykernel)",
   "language": "python",
   "name": "python3"
  },
  "language_info": {
   "codemirror_mode": {
    "name": "ipython",
    "version": 3
   },
   "file_extension": ".py",
   "mimetype": "text/x-python",
   "name": "python",
   "nbconvert_exporter": "python",
   "pygments_lexer": "ipython3",
   "version": "3.11.5"
  }
 },
 "nbformat": 4,
 "nbformat_minor": 5
}
