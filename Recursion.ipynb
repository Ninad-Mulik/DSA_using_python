{
 "cells": [
  {
   "cell_type": "code",
   "execution_count": 1,
   "id": "9b3ff4be",
   "metadata": {},
   "outputs": [],
   "source": [
    "#Factorial using recursion"
   ]
  },
  {
   "cell_type": "code",
   "execution_count": 24,
   "id": "bde99115",
   "metadata": {},
   "outputs": [],
   "source": [
    "number = 10 #lets say we gotta find the factorial of 10"
   ]
  },
  {
   "cell_type": "code",
   "execution_count": 25,
   "id": "e7a8a928",
   "metadata": {},
   "outputs": [],
   "source": [
    "def factorial(number):\n",
    "    if number == 0:\n",
    "        return 1\n",
    "    else:\n",
    "        return number * factorial(number-1) # calling out the function recursively"
   ]
  },
  {
   "cell_type": "code",
   "execution_count": 26,
   "id": "108e3d52",
   "metadata": {},
   "outputs": [
    {
     "data": {
      "text/plain": [
       "3628800"
      ]
     },
     "execution_count": 26,
     "metadata": {},
     "output_type": "execute_result"
    }
   ],
   "source": [
    "factorial(number)"
   ]
  },
  {
   "cell_type": "raw",
   "id": "12139441",
   "metadata": {},
   "source": [
    "Write a function that reverses a string. The input string is given as an array of characters s.\n",
    "\n",
    "You must do this by modifying the input array in-place with O(1) extra memory.\n",
    "Example 1:\n",
    "\n",
    "Input: string = [\"h\",\"e\",\"l\",\"l\",\"o\"]\n",
    "Output: [\"o\",\"l\",\"l\",\"e\",\"h\"]\n",
    "    \n",
    "Example 2:\n",
    "\n",
    "Input: s = [\"H\",\"a\",\"n\",\"n\",\"a\",\"h\"]\n",
    "Output: [\"h\",\"a\",\"n\",\"n\",\"a\",\"H\"]"
   ]
  },
  {
   "cell_type": "code",
   "execution_count": 51,
   "id": "bf895582",
   "metadata": {},
   "outputs": [],
   "source": [
    "string = [\"h\",\"e\",\"l\",\"l\",\"o\"]"
   ]
  },
  {
   "cell_type": "code",
   "execution_count": 52,
   "id": "2ebb53ef",
   "metadata": {},
   "outputs": [],
   "source": [
    "start = 0\n",
    "temp = 0\n",
    "end = len(string)-1\n",
    "def Reverse(string,start,end,temp):\n",
    "    \n",
    "    if start >= end:\n",
    "        #print(string[start],string[end])\n",
    "        return string\n",
    "    string[start],string[end] = string[end],string[start]\n",
    "    \n",
    "    return Reverse(string,start+1,end-1,temp)"
   ]
  },
  {
   "cell_type": "code",
   "execution_count": 53,
   "id": "b2b2ee71",
   "metadata": {},
   "outputs": [
    {
     "data": {
      "text/plain": [
       "['o', 'l', 'l', 'e', 'h']"
      ]
     },
     "execution_count": 53,
     "metadata": {},
     "output_type": "execute_result"
    }
   ],
   "source": [
    "Reverse(string,start,end,temp)"
   ]
  },
  {
   "cell_type": "raw",
   "id": "023bb217",
   "metadata": {},
   "source": [
    "Print numbers from 1 to n without the help of loops. You only need to complete the function printNos() that takes N as parameter and prints number from 1 to N recursively.\n",
    "\n",
    "Don't print newline, it will be added by the driver code.\n",
    "\n",
    "Examples\n",
    "\n",
    "Input: n = 10\n",
    "Output: 1 2 3 4 5 6 7 8 9 10\n",
    "Input: n = 5\n",
    "Output: 1 2 3 4 5"
   ]
  },
  {
   "cell_type": "code",
   "execution_count": 48,
   "id": "21a063a5",
   "metadata": {},
   "outputs": [],
   "source": [
    "def Print(n):\n",
    "    if n == 0:\n",
    "        return \n",
    "    \n",
    "    Print(n-1)\n",
    "    print(n,end=' ')"
   ]
  },
  {
   "cell_type": "code",
   "execution_count": 49,
   "id": "ccb56e53",
   "metadata": {},
   "outputs": [
    {
     "name": "stdout",
     "output_type": "stream",
     "text": [
      "1 2 3 4 5 6 7 8 9 10 "
     ]
    }
   ],
   "source": [
    "Print(10)"
   ]
  },
  {
   "cell_type": "raw",
   "id": "6f1fed51",
   "metadata": {},
   "source": [
    "#PATTERN BY RECURSION\n",
    "\n",
    "1\n",
    "12\n",
    "123\n",
    "1234\n",
    "12345"
   ]
  },
  {
   "cell_type": "code",
   "execution_count": 62,
   "id": "89be861f",
   "metadata": {},
   "outputs": [],
   "source": [
    "def Pattern(n,row=1):\n",
    "    if row>n:\n",
    "        return\n",
    "    for i in range(1,row+1):\n",
    "        print(i,end=' ')\n",
    "    print()    \n",
    "\n",
    "    Pattern(n,row+1)"
   ]
  },
  {
   "cell_type": "code",
   "execution_count": 63,
   "id": "f71f898f",
   "metadata": {},
   "outputs": [
    {
     "name": "stdout",
     "output_type": "stream",
     "text": [
      "1 \n",
      "1 2 \n",
      "1 2 3 \n",
      "1 2 3 4 \n",
      "1 2 3 4 5 \n"
     ]
    }
   ],
   "source": [
    "Pattern(5,row)"
   ]
  },
  {
   "cell_type": "raw",
   "id": "3d3cee85",
   "metadata": {},
   "source": [
    "The Fibonacci numbers, commonly denoted F(n) form a sequence, called the Fibonacci sequence, such that each number is the sum of the two preceding ones, starting from 0 and 1. That is,\n",
    "\n",
    "F(0) = 0, F(1) = 1\n",
    "F(n) = F(n - 1) + F(n - 2), for n > 1.\n",
    "Given n, calculate F(n).\n",
    "\n",
    "Example 1:\n",
    "\n",
    "Input: n = 2\n",
    "Output: 1\n",
    "Explanation: F(2) = F(1) + F(0) = 1 + 0 = 1."
   ]
  },
  {
   "cell_type": "code",
   "execution_count": 44,
   "id": "a63bc426",
   "metadata": {},
   "outputs": [],
   "source": [
    "n=[0,1]\n",
    "def fibonacci(n, times):\n",
    "    \n",
    "    if times < len(n):\n",
    "        return n[times]\n",
    "    \n",
    "    n.append(n[-1] + n[-2])\n",
    "    \n",
    "    fibonacci(n, times)\n",
    "    return n"
   ]
  },
  {
   "cell_type": "code",
   "execution_count": 45,
   "id": "6c7c9191",
   "metadata": {},
   "outputs": [
    {
     "data": {
      "text/plain": [
       "[0, 1, 1, 2, 3, 5]"
      ]
     },
     "execution_count": 45,
     "metadata": {},
     "output_type": "execute_result"
    }
   ],
   "source": [
    "fibonacci(n, 5)"
   ]
  },
  {
   "cell_type": "raw",
   "id": "e4c82cf1",
   "metadata": {},
   "source": [
    "Given a string calculate length of the string using recursion. \n",
    "\n",
    "Examples: \n",
    "\n",
    "Input : str = \"abcd\"\n",
    "Output :4\n",
    "\n",
    "Input : str = \"GEEKSFORGEEKS\"\n",
    "Output :13"
   ]
  },
  {
   "cell_type": "code",
   "execution_count": 16,
   "id": "dc310d72",
   "metadata": {},
   "outputs": [],
   "source": [
    "string = \"GEEKSFORGEEKS\""
   ]
  },
  {
   "cell_type": "code",
   "execution_count": 17,
   "id": "c5fb3c58",
   "metadata": {},
   "outputs": [],
   "source": [
    "def length(string):\n",
    "    \n",
    "    if string == \"\":\n",
    "        return 0\n",
    "    else:\n",
    "        return 1 + length(string[1:])"
   ]
  },
  {
   "cell_type": "code",
   "execution_count": 18,
   "id": "d896208b",
   "metadata": {},
   "outputs": [
    {
     "data": {
      "text/plain": [
       "13"
      ]
     },
     "execution_count": 18,
     "metadata": {},
     "output_type": "execute_result"
    }
   ],
   "source": [
    "length(string)"
   ]
  },
  {
   "cell_type": "code",
   "execution_count": null,
   "id": "ac84de50",
   "metadata": {},
   "outputs": [],
   "source": []
  }
 ],
 "metadata": {
  "kernelspec": {
   "display_name": "Python 3 (ipykernel)",
   "language": "python",
   "name": "python3"
  },
  "language_info": {
   "codemirror_mode": {
    "name": "ipython",
    "version": 3
   },
   "file_extension": ".py",
   "mimetype": "text/x-python",
   "name": "python",
   "nbconvert_exporter": "python",
   "pygments_lexer": "ipython3",
   "version": "3.11.5"
  }
 },
 "nbformat": 4,
 "nbformat_minor": 5
}
